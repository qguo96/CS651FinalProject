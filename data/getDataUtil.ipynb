{
 "cells": [
  {
   "cell_type": "code",
   "execution_count": 32,
   "id": "00f653b5",
   "metadata": {},
   "outputs": [],
   "source": [
    "import datetime\n",
    "import time\n",
    "import pytz\n",
    "import requests\n",
    "import json"
   ]
  },
  {
   "cell_type": "code",
   "execution_count": 40,
   "id": "5d345ee8",
   "metadata": {},
   "outputs": [],
   "source": [
    "\n",
    "def convert_to_milliseconds(year, month, day):\n",
    "    #datetime.date.today () - datetime.timedelta (days=1) \n",
    "    data_object = datetime.datetime(year, month, day, 12, 0, 0, 0)\n",
    "    time_in_milliseconds = int(time.mktime(data_object.timetuple()) * 1000)\n",
    "    return time_in_milliseconds"
   ]
  },
  {
   "cell_type": "code",
   "execution_count": 45,
   "id": "e531ac3a",
   "metadata": {},
   "outputs": [],
   "source": [
    "def get_data_one_day(year, month, day):\n",
    "    #int\n",
    "    time_in_milliseconds = convert_to_milliseconds(year, month, day)\n",
    "    # get data through blockchain info\n",
    "    url = f'https://blockchain.info/blocks/{time_in_milliseconds}?format=json'\n",
    "    data_in_one_day = json.loads(requests.get(url).text) #dict\n",
    "    return data_in_one_day"
   ]
  },
  {
   "cell_type": "code",
   "execution_count": 58,
   "id": "7ef30571",
   "metadata": {},
   "outputs": [],
   "source": [
    "def get_raw_data_with_index(data_in_one_day, index):\n",
    "    #block_numbers = len(data_in_one_day)\n",
    "    block_hash = data_in_one_day[index]['hash']\n",
    "    url = f'https://blockchain.info/rawblock/{block_hash}?format=hex'\n",
    "    raw_data = requests.get(url).text\n",
    "    return raw_data\n",
    "    "
   ]
  },
  {
   "cell_type": "code",
   "execution_count": 61,
   "id": "2e16986b",
   "metadata": {},
   "outputs": [],
   "source": [
    "def write_raw_data_to_file(raw_data):\n",
    "    # to a total new file\n",
    "    file_name = \"block_2021_12_5_index_0.blk.dat\"\n",
    "    text_file = open(file_name, \"w\")\n",
    "    text_file.write(raw_data)\n",
    "    text_file.close()"
   ]
  },
  {
   "cell_type": "code",
   "execution_count": 62,
   "id": "bd999b39",
   "metadata": {},
   "outputs": [
    {
     "name": "stdout",
     "output_type": "stream",
     "text": [
      "https://blockchain.info/blocks/1638676800000?format=json\n"
     ]
    }
   ],
   "source": [
    "write_raw_data_to_file(get_raw_data_with_index(get_data_one_day(2021, 12, 5), 0))"
   ]
  },
  {
   "cell_type": "code",
   "execution_count": null,
   "id": "67984dd3",
   "metadata": {},
   "outputs": [],
   "source": []
  }
 ],
 "metadata": {
  "kernelspec": {
   "display_name": "Python 3 (ipykernel)",
   "language": "python",
   "name": "python3"
  },
  "language_info": {
   "codemirror_mode": {
    "name": "ipython",
    "version": 3
   },
   "file_extension": ".py",
   "mimetype": "text/x-python",
   "name": "python",
   "nbconvert_exporter": "python",
   "pygments_lexer": "ipython3",
   "version": "3.9.7"
  }
 },
 "nbformat": 4,
 "nbformat_minor": 5
}
